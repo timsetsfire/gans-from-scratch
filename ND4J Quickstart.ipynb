{
 "cells": [
  {
   "cell_type": "code",
   "execution_count": 1,
   "metadata": {},
   "outputs": [
    {
     "data": {
      "application/vnd.jupyter.widget-view+json": {
       "model_id": "",
       "version_major": 2,
       "version_minor": 0
      },
      "method": "display_data"
     },
     "metadata": {},
     "output_type": "display_data"
    },
    {
     "data": {
      "application/vnd.jupyter.widget-view+json": {
       "model_id": "e270d098-2b59-4fc0-842f-f073f0f4c17e",
       "version_major": 2,
       "version_minor": 0
      },
      "method": "display_data"
     },
     "metadata": {},
     "output_type": "display_data"
    }
   ],
   "source": [
    "%%classpath add mvn \n",
    "org.nd4j nd4j-native-platform 0.7.2\n",
    "org.nd4j nd4s_2.11 0.7.2"
   ]
  },
  {
   "cell_type": "markdown",
   "metadata": {},
   "source": [
    "## Creating an NDArray"
   ]
  },
  {
   "cell_type": "code",
   "execution_count": 118,
   "metadata": {},
   "outputs": [],
   "source": [
    "import org.nd4j.linalg.factory.Nd4j\n",
    "import org.nd4s.Implicits._\n",
    "val x1 = Nd4j.create( Array[Double](2,7,6,9,5,1,4,3,8), Array(3,3), 'c')\n",
    "// or\n",
    "val x2 = Array(Array(2,7,6),Array(9,5,1),Array(4,3,8)).toNDArray\n",
    "OutputCell.HIDDEN"
   ]
  },
  {
   "cell_type": "code",
   "execution_count": 119,
   "metadata": {},
   "outputs": [
    {
     "name": "stdout",
     "output_type": "stream",
     "text": [
      "[[2.00, 7.00, 6.00],\n",
      " [9.00, 5.00, 1.00],\n",
      " [4.00, 3.00, 8.00]]\n"
     ]
    },
    {
     "data": {
      "text/plain": [
       "null"
      ]
     },
     "execution_count": 119,
     "metadata": {},
     "output_type": "execute_result"
    }
   ],
   "source": [
    "println(x1)"
   ]
  },
  {
   "cell_type": "markdown",
   "metadata": {},
   "source": [
    "## Transpose\n",
    "\n",
    "Very fundamental operation is transposition - this is switching the row index with the column index for each element."
   ]
  },
  {
   "cell_type": "code",
   "execution_count": 120,
   "metadata": {},
   "outputs": [
    {
     "name": "stdout",
     "output_type": "stream",
     "text": [
      "[[2.00, 7.00, 6.00],\n",
      " [9.00, 5.00, 1.00],\n",
      " [4.00, 3.00, 8.00]]\n",
      "\n",
      "[[2.00, 9.00, 4.00],\n",
      " [7.00, 5.00, 3.00],\n",
      " [6.00, 1.00, 8.00]]\n"
     ]
    },
    {
     "data": {
      "text/plain": [
       "null"
      ]
     },
     "execution_count": 120,
     "metadata": {},
     "output_type": "execute_result"
    }
   ],
   "source": [
    "println(x1)\n",
    "println()\n",
    "println(x1.transpose)"
   ]
  },
  {
   "cell_type": "markdown",
   "metadata": {},
   "source": [
    "One thing of particular importance to point out, in ND4J, transpose is one of several operations that return a reference to the original object.  You are NOT creating a new one. That means if `x` is an $n \\times k$\n",
    " matrix, and you create `xt = x.transpose` and set `xt(0,1) = 10`, then `x(1,0)` will be set to 10 as well. We’ll see the other operations that act similarly when we discuss slicing."
   ]
  },
  {
   "cell_type": "markdown",
   "metadata": {},
   "source": [
    "## Slicing\n",
    "\n"
   ]
  },
  {
   "cell_type": "markdown",
   "metadata": {},
   "source": [
    "The fundamental methods of slicing in ND4J involve 'get', 'getRow', 'getRows', 'getColumn', and lastly, 'getColumns'.\n",
    "\n",
    "'get', 'getRow', 'getColumn' all return objects that point to the same underlying data in memory, same as transpose does. This can be very useful, but you must remain mindful.\n",
    "\n",
    "There are some other methods of slicing that are specific to Scala (available via ND4S)."
   ]
  },
  {
   "cell_type": "code",
   "execution_count": 121,
   "metadata": {},
   "outputs": [
    {
     "name": "stdout",
     "output_type": "stream",
     "text": [
      "[[9.00, 5.00, 1.00],\n",
      " [4.00, 3.00, 8.00]]\n"
     ]
    },
    {
     "data": {
      "text/plain": [
       "null"
      ]
     },
     "execution_count": 121,
     "metadata": {},
     "output_type": "execute_result"
    }
   ],
   "source": [
    "val rowsToGet = List(1,2)\n",
    "val xSubSet = x1.getRows( rowsToGet:_*)\n",
    "println(xSubSet)"
   ]
  },
  {
   "cell_type": "markdown",
   "metadata": {},
   "source": [
    "Some convenient ND4S specific slicing methods"
   ]
  },
  {
   "cell_type": "code",
   "execution_count": 122,
   "metadata": {},
   "outputs": [
    {
     "name": "stdout",
     "output_type": "stream",
     "text": [
      "[[9.00, 5.00, 1.00],\n",
      " [4.00, 3.00, 8.00]]\n"
     ]
    },
    {
     "data": {
      "text/plain": [
       "null"
      ]
     },
     "execution_count": 122,
     "metadata": {},
     "output_type": "execute_result"
    }
   ],
   "source": [
    "println( x1(1 to 2, 0 until 3))"
   ]
  },
  {
   "cell_type": "code",
   "execution_count": 123,
   "metadata": {},
   "outputs": [
    {
     "name": "stdout",
     "output_type": "stream",
     "text": [
      "[[9.00, 5.00, 1.00],\n",
      " [4.00, 3.00, 8.00]]\n"
     ]
    },
    {
     "data": {
      "text/plain": [
       "null"
      ]
     },
     "execution_count": 123,
     "metadata": {},
     "output_type": "execute_result"
    }
   ],
   "source": [
    "println( x1(1 to 2, ->))"
   ]
  },
  {
   "cell_type": "markdown",
   "metadata": {},
   "source": [
    "## Setting values\n",
    "\n",
    "You would set elements of an NDArray in a familiar manner, i.e., `x(0,0) = 10` would set the 0, 0 element equal to 10."
   ]
  },
  {
   "cell_type": "code",
   "execution_count": 129,
   "metadata": {},
   "outputs": [
    {
     "data": {
      "text/plain": [
       "[[1.00, 1.00, 1.00],\n",
       " [1.00, 1.00, 1.00],\n",
       " [1.00, 1.00, 1.00]]"
      ]
     },
     "execution_count": 129,
     "metadata": {},
     "output_type": "execute_result"
    }
   ],
   "source": [
    "// makes a copy of x1 and sets every element equal to 1\n",
    "// where as x1(->,->) = 1 sets every element of x1 equal to 1\n",
    "x1.dup(->, ->) = 1\n"
   ]
  },
  {
   "cell_type": "code",
   "execution_count": 130,
   "metadata": {},
   "outputs": [
    {
     "data": {
      "text/plain": [
       "[[2.00, 7.00, 6.00],\n",
       " [9.00, 5.00, 1.00],\n",
       " [4.00, 3.00, 8.00]]"
      ]
     },
     "execution_count": 130,
     "metadata": {},
     "output_type": "execute_result"
    }
   ],
   "source": [
    "x1"
   ]
  },
  {
   "cell_type": "code",
   "execution_count": 133,
   "metadata": {},
   "outputs": [
    {
     "name": "stdout",
     "output_type": "stream",
     "text": [
      "row 1\n",
      "[10.00, 5.00, 1.00]\n",
      "\n",
      "modified row 1\n",
      "[10.00, 5.00, 1.00]\n",
      "\n",
      "original INDArray that row 1 came from\n",
      "[[2.00, 7.00, 6.00],\n",
      " [10.00, 5.00, 1.00],\n",
      " [4.00, 3.00, 8.00]]\n"
     ]
    },
    {
     "data": {
      "text/plain": [
       "null"
      ]
     },
     "execution_count": 133,
     "metadata": {},
     "output_type": "execute_result"
    }
   ],
   "source": [
    "val row1 = x1.getRow(1)\n",
    "println(\"row 1\")\n",
    "println(row1)\n",
    "row1(0,0) = 10\n",
    "println(\"\\nmodified row 1\")\n",
    "println(row1)\n",
    "println(\"\\noriginal INDArray that row 1 came from\")\n",
    "println(x1)"
   ]
  },
  {
   "cell_type": "markdown",
   "metadata": {},
   "source": [
    "##  Matrix Mutliplication"
   ]
  },
  {
   "cell_type": "code",
   "execution_count": 75,
   "metadata": {},
   "outputs": [
    {
     "name": "stdout",
     "output_type": "stream",
     "text": [
      "[[5.77, 5.45],\n",
      " [5.45, 11.33]]\n"
     ]
    },
    {
     "data": {
      "text/plain": [
       "null"
      ]
     },
     "execution_count": 75,
     "metadata": {},
     "output_type": "execute_result"
    }
   ],
   "source": [
    "val y = Nd4j.randn(3,2)\n",
    "\n",
    "println(y.transpose mmul y)"
   ]
  },
  {
   "cell_type": "markdown",
   "metadata": {},
   "source": [
    "## Hadamard Product"
   ]
  },
  {
   "cell_type": "code",
   "execution_count": 139,
   "metadata": {},
   "outputs": [
    {
     "name": "stdout",
     "output_type": "stream",
     "text": [
      "[[-4.12, -6.29],\n",
      " [2.46, -1.77],\n",
      " [-0.14, -1.62]]\n"
     ]
    },
    {
     "data": {
      "text/plain": [
       "null"
      ]
     },
     "execution_count": 139,
     "metadata": {},
     "output_type": "execute_result"
    }
   ],
   "source": [
    "println( y * y)"
   ]
  },
  {
   "cell_type": "markdown",
   "metadata": {},
   "source": [
    "INDArray have elementwise methods availble. Some standards, `add`, `mul`, `sub`, `div`. The argument must be the same size as the matrix or a scalar.\n",
    "\n",
    "All the operations listed above have an inplace version as well: `addi`, `muli`, `subi`, and `divi`. For example addi would be equivalent to `x += 1`.\n",
    "\n",
    "More elementwise operations are available in org.nd4j.linalg.ops.transforms.Transforms, for example: `exp`, `log`, etc."
   ]
  },
  {
   "cell_type": "code",
   "execution_count": 140,
   "metadata": {},
   "outputs": [
    {
     "name": "stdout",
     "output_type": "stream",
     "text": [
      "[[2.10, -14.71, 0.78],\n",
      " [-1.77, 3.22, 10.27],\n",
      " [-0.02, -11.85, -6.07],\n",
      " [1.03, -4.24, 7.30]]\n",
      "\n",
      "[[2.10, -14.71, 0.78],\n",
      " [-1.77, 3.22, 10.27],\n",
      " [-0.02, -11.85, -6.07],\n",
      " [1.03, -4.24, 7.30]]\n"
     ]
    },
    {
     "data": {
      "text/plain": [
       "null"
      ]
     },
     "execution_count": 140,
     "metadata": {},
     "output_type": "execute_result"
    }
   ],
   "source": [
    "// mutliply by scaler\n",
    "\n",
    "println(x.mul(3))\n",
    "\n",
    "// multiply inplace by a scaler\n",
    "println()\n",
    "x.muli(3)\n",
    "\n",
    "println(x)"
   ]
  },
  {
   "cell_type": "markdown",
   "metadata": {},
   "source": [
    "## Broadcasting\n",
    "\n",
    "There are specific methods available for this including `addRowVector`, `addColumnVector` as well as the multiplication, division and subtraction analogs.  In place versions are also available, for example `addiRowVector`"
   ]
  },
  {
   "cell_type": "markdown",
   "metadata": {},
   "source": [
    "## Identity Matrics and Matrix Inversion"
   ]
  },
  {
   "cell_type": "code",
   "execution_count": 134,
   "metadata": {},
   "outputs": [
    {
     "data": {
      "text/plain": [
       "[[1.00, 0.00, 0.00],\n",
       " [0.00, 1.00, 0.00],\n",
       " [0.00, 0.00, 1.00]]"
      ]
     },
     "execution_count": 134,
     "metadata": {},
     "output_type": "execute_result"
    }
   ],
   "source": [
    "val i = Nd4j.eye(3)"
   ]
  },
  {
   "cell_type": "code",
   "execution_count": 135,
   "metadata": {},
   "outputs": [
    {
     "data": {
      "text/plain": [
       "import org.nd4j.linalg.inverse.InvertMatrix.invert\n"
      ]
     },
     "execution_count": 135,
     "metadata": {},
     "output_type": "execute_result"
    }
   ],
   "source": [
    "import org.nd4j.linalg.inverse.InvertMatrix.invert"
   ]
  },
  {
   "cell_type": "code",
   "execution_count": 136,
   "metadata": {},
   "outputs": [
    {
     "data": {
      "text/plain": [
       "[[18.96, 1.97, 0.23],\n",
       " [1.97, 0.43, -0.05],\n",
       " [0.23, -0.05, 0.44]]"
      ]
     },
     "execution_count": 136,
     "metadata": {},
     "output_type": "execute_result"
    }
   ],
   "source": [
    "val x = Nd4j.randn(4,3)\n",
    "val xtx = x.transpose mmul x\n",
    "val xtxinv = invert(xtx, false)  // the the boolean will do the inversion in place by provide true"
   ]
  },
  {
   "cell_type": "code",
   "execution_count": 102,
   "metadata": {},
   "outputs": [
    {
     "data": {
      "text/plain": [
       "[[1.00, 0.00, -0.00],\n",
       " [-0.00, 1.00, -0.00],\n",
       " [-0.00, -0.00, 1.00]]"
      ]
     },
     "execution_count": 102,
     "metadata": {},
     "output_type": "execute_result"
    }
   ],
   "source": [
    "xtx mmul xtxinv"
   ]
  },
  {
   "cell_type": "code",
   "execution_count": 137,
   "metadata": {},
   "outputs": [
    {
     "name": "stdout",
     "output_type": "stream",
     "text": [
      "[[18.96, 1.97, 0.23],\n",
      " [1.97, 0.43, -0.05],\n",
      " [0.23, -0.05, 0.44]]\n"
     ]
    },
    {
     "data": {
      "text/plain": [
       "null"
      ]
     },
     "execution_count": 137,
     "metadata": {},
     "output_type": "execute_result"
    }
   ],
   "source": [
    "invert(xtx, true)\n",
    "println(xtx)"
   ]
  },
  {
   "cell_type": "markdown",
   "metadata": {},
   "source": [
    "## Other useful operations"
   ]
  },
  {
   "cell_type": "code",
   "execution_count": 105,
   "metadata": {},
   "outputs": [
    {
     "data": {
      "text/plain": [
       "[1.41, -0.40, 0.50]"
      ]
     },
     "execution_count": 105,
     "metadata": {},
     "output_type": "execute_result"
    }
   ],
   "source": [
    "// sum columns\n",
    "\n",
    "x.sum(0)"
   ]
  },
  {
   "cell_type": "code",
   "execution_count": 106,
   "metadata": {},
   "outputs": [
    {
     "data": {
      "text/plain": [
       "[-1.45, -1.95, 2.93, 1.99]"
      ]
     },
     "execution_count": 106,
     "metadata": {},
     "output_type": "execute_result"
    }
   ],
   "source": [
    "// sum rows\n",
    "\n",
    "x.sum(1)"
   ]
  },
  {
   "cell_type": "code",
   "execution_count": 107,
   "metadata": {},
   "outputs": [
    {
     "data": {
      "text/plain": [
       "[[1.00, 1.00],\n",
       " [1.00, 1.00]]"
      ]
     },
     "execution_count": 107,
     "metadata": {},
     "output_type": "execute_result"
    }
   ],
   "source": [
    "// matrix of ones\n",
    "val ones = Nd4j.ones(2,2)"
   ]
  },
  {
   "cell_type": "code",
   "execution_count": 141,
   "metadata": {},
   "outputs": [
    {
     "data": {
      "text/plain": [
       "[[1.00, 1.00, 1.00],\n",
       " [1.00, 1.00, 1.00],\n",
       " [1.00, 1.00, 1.00],\n",
       " [1.00, 1.00, 1.00]]"
      ]
     },
     "execution_count": 141,
     "metadata": {},
     "output_type": "execute_result"
    }
   ],
   "source": [
    "// ones like\n",
    "val onesLikeX = Nd4j.onesLike(x)"
   ]
  },
  {
   "cell_type": "code",
   "execution_count": 142,
   "metadata": {},
   "outputs": [
    {
     "data": {
      "text/plain": [
       "[[0.00, 0.00],\n",
       " [0.00, 0.00]]"
      ]
     },
     "execution_count": 142,
     "metadata": {},
     "output_type": "execute_result"
    }
   ],
   "source": [
    "// matrix of zeros\n",
    "val zeros = Nd4j.zeros(2,2)"
   ]
  },
  {
   "cell_type": "code",
   "execution_count": 143,
   "metadata": {},
   "outputs": [
    {
     "data": {
      "text/plain": [
       "[[0.00, 0.00, 0.00],\n",
       " [0.00, 0.00, 0.00],\n",
       " [0.00, 0.00, 0.00],\n",
       " [0.00, 0.00, 0.00]]"
      ]
     },
     "execution_count": 143,
     "metadata": {},
     "output_type": "execute_result"
    }
   ],
   "source": [
    "// zeros like \n",
    "val zerosLikeX = Nd4j.zerosLike(x)"
   ]
  },
  {
   "cell_type": "code",
   "execution_count": 109,
   "metadata": {},
   "outputs": [
    {
     "data": {
      "text/plain": [
       "[[1.00, 1.00, 0.00, 0.00],\n",
       " [1.00, 1.00, 0.00, 0.00]]"
      ]
     },
     "execution_count": 109,
     "metadata": {},
     "output_type": "execute_result"
    }
   ],
   "source": [
    "// horizontal stacking\n",
    "val onesAndZeros = Nd4j.hstack(ones, zeros) // or Nd4j.concat(1, ones, zeros)"
   ]
  },
  {
   "cell_type": "code",
   "execution_count": 110,
   "metadata": {},
   "outputs": [
    {
     "data": {
      "text/plain": [
       "[[1.00, 1.00],\n",
       " [1.00, 1.00],\n",
       " [0.00, 0.00],\n",
       " [0.00, 0.00]]"
      ]
     },
     "execution_count": 110,
     "metadata": {},
     "output_type": "execute_result"
    }
   ],
   "source": [
    "// vertical stacking\n",
    "val onesAndZeros2 = Nd4j.vstack(ones, zeros) // or Nd4j.concat(0, ones, zeros)"
   ]
  },
  {
   "cell_type": "code",
   "execution_count": 111,
   "metadata": {},
   "outputs": [
    {
     "data": {
      "text/plain": [
       "[0.35, -0.10, 0.12]"
      ]
     },
     "execution_count": 111,
     "metadata": {},
     "output_type": "execute_result"
    }
   ],
   "source": [
    "// mean of columns \n",
    "x.mean(0)"
   ]
  },
  {
   "cell_type": "code",
   "execution_count": 112,
   "metadata": {},
   "outputs": [
    {
     "data": {
      "text/plain": [
       "[-0.48, -0.65, 0.98, 0.66]"
      ]
     },
     "execution_count": 112,
     "metadata": {},
     "output_type": "execute_result"
    }
   ],
   "source": [
    "// mean of rows \n",
    "x.mean(1)"
   ]
  }
 ],
 "metadata": {
  "kernelspec": {
   "display_name": "Scala",
   "language": "scala",
   "name": "scala"
  },
  "language_info": {
   "codemirror_mode": "text/x-scala",
   "file_extension": ".scala",
   "mimetype": "",
   "name": "Scala",
   "nbconverter_exporter": "",
   "version": "2.11.12"
  },
  "toc": {
   "base_numbering": 1,
   "nav_menu": {},
   "number_sections": false,
   "sideBar": false,
   "skip_h1_title": false,
   "title_cell": "Table of Contents",
   "title_sidebar": "Contents",
   "toc_cell": false,
   "toc_position": {},
   "toc_section_display": false,
   "toc_window_display": false
  }
 },
 "nbformat": 4,
 "nbformat_minor": 2
}
